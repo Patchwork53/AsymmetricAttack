{
 "cells": [
  {
   "cell_type": "code",
   "execution_count": 16,
   "metadata": {},
   "outputs": [
    {
     "name": "stdout",
     "output_type": "stream",
     "text": [
      "Average ASR for all pairs: 0.264\n",
      "+----------------------+-------+---------------------+\n",
      "|       Category       | Count |     Average ASR     |\n",
      "+----------------------+-------+---------------------+\n",
      "|  low_bsr_low_delta2  |   23  | 0.17391304347826086 |\n",
      "| low_bsr_high_delta2  |   19  | 0.04736842105263159 |\n",
      "| high_bsr_low_delta2  |   27  |         0.6         |\n",
      "| high_bsr_high_delta2 |   31  | 0.17096774193548384 |\n",
      "+----------------------+-------+---------------------+\n"
     ]
    }
   ],
   "source": [
    "import pandas as pd\n",
    "from collections import defaultdict\n",
    "from prettytable import PrettyTable\n",
    "\n",
    "HIGH_BSR_THRESH = 0.9\n",
    "\n",
    "#BSR-DELTA2\n",
    "\n",
    "bsr_delta2 = defaultdict(list)\n",
    "\n",
    "df = pd.read_csv('hq_pairs.csv')\n",
    "#average asr for all\n",
    "avg_asr = df[\"asr\"].mean()\n",
    "print(f\"Average ASR for all pairs: {avg_asr}\")\n",
    "\n",
    "\n",
    "for index, row in df.iterrows():\n",
    "    bsr = row[\"bsr\"]\n",
    "    delta2 = row[\"delta_2\"]\n",
    "\n",
    "    if bsr < HIGH_BSR_THRESH:\n",
    "        if delta2 < 0:\n",
    "            bsr_delta2[\"low_bsr_low_delta2\"].append(row)\n",
    "        else:\n",
    "            bsr_delta2[\"low_bsr_high_delta2\"].append(row)\n",
    "    else:\n",
    "        if delta2 < 0:\n",
    "            bsr_delta2[\"high_bsr_low_delta2\"].append(row)\n",
    "        else:\n",
    "            bsr_delta2[\"high_bsr_high_delta2\"].append(row)\n",
    "\n",
    "#find averag asr for each category\n",
    "\n",
    "table = PrettyTable()\n",
    "table.field_names = [\"Category\",\"Count\", \"Average ASR\"]\n",
    "for key in bsr_delta2:\n",
    "    total_asr = 0\n",
    "    for row in bsr_delta2[key]:\n",
    "        total_asr += row[\"asr\"]\n",
    "    average_asr = total_asr / len(bsr_delta2[key])\n",
    "    table.add_row([key, len(bsr_delta2[key]), average_asr])\n",
    "\n",
    "table.sortby = \"Category\"\n",
    "table.reversesort = True\n",
    "print(table)"
   ]
  },
  {
   "cell_type": "code",
   "execution_count": 17,
   "metadata": {},
   "outputs": [
    {
     "name": "stdout",
     "output_type": "stream",
     "text": [
      "Average ASR for all pairs: 0.1891891891891892\n",
      "+----------------------+-------+---------------------+\n",
      "|       Category       | Count |     Average ASR     |\n",
      "+----------------------+-------+---------------------+\n",
      "|  low_bsr_low_delta2  |  260  | 0.12884615384615392 |\n",
      "| low_bsr_high_delta2  |  274  |  0.0872262773722628 |\n",
      "| high_bsr_low_delta2  |  239  | 0.34937238493723843 |\n",
      "| high_bsr_high_delta2 |  226  |  0.2128318584070798 |\n",
      "+----------------------+-------+---------------------+\n"
     ]
    }
   ],
   "source": [
    "import pandas as pd\n",
    "from collections import defaultdict\n",
    "from prettytable import PrettyTable\n",
    "\n",
    "HIGH_BSR_THRESH = 0.9\n",
    "\n",
    "#BSR-DELTA2\n",
    "\n",
    "bsr_delta2 = defaultdict(list)\n",
    "\n",
    "df = pd.read_csv('coco_pairs.csv')\n",
    "#average asr for all\n",
    "avg_asr = df[\"asr\"].mean()\n",
    "print(f\"Average ASR for all pairs: {avg_asr}\")\n",
    "for index, row in df.iterrows():\n",
    "    bsr = row[\"bsr\"]\n",
    "    delta2 = row[\"delta_2\"]\n",
    "\n",
    "    if bsr < HIGH_BSR_THRESH:\n",
    "        if delta2 < 0:\n",
    "            bsr_delta2[\"low_bsr_low_delta2\"].append(row)\n",
    "        else:\n",
    "            bsr_delta2[\"low_bsr_high_delta2\"].append(row)\n",
    "    else:\n",
    "        if delta2 < 0:\n",
    "            bsr_delta2[\"high_bsr_low_delta2\"].append(row)\n",
    "        else:\n",
    "            bsr_delta2[\"high_bsr_high_delta2\"].append(row)\n",
    "\n",
    "#find averag asr for each category\n",
    "\n",
    "table = PrettyTable()\n",
    "table.field_names = [\"Category\",\"Count\", \"Average ASR\"]\n",
    "for key in bsr_delta2:\n",
    "    total_asr = 0\n",
    "    for row in bsr_delta2[key]:\n",
    "        total_asr += row[\"asr\"]\n",
    "    average_asr = total_asr / len(bsr_delta2[key])\n",
    "    table.add_row([key, len(bsr_delta2[key]), average_asr])\n",
    "\n",
    "#sort by category, descending\n",
    "table.sortby = \"Category\"\n",
    "table.reversesort = True\n",
    "print(table)"
   ]
  }
 ],
 "metadata": {
  "kernelspec": {
   "display_name": "Python 3",
   "language": "python",
   "name": "python3"
  },
  "language_info": {
   "codemirror_mode": {
    "name": "ipython",
    "version": 3
   },
   "file_extension": ".py",
   "mimetype": "text/x-python",
   "name": "python",
   "nbconvert_exporter": "python",
   "pygments_lexer": "ipython3",
   "version": "3.10.12"
  }
 },
 "nbformat": 4,
 "nbformat_minor": 2
}
